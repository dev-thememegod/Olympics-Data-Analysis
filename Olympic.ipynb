{
 "cells": [
  {
   "cell_type": "code",
   "execution_count": 3,
   "id": "9e8bcc64-67e4-4e19-b6de-21e890c338f5",
   "metadata": {},
   "outputs": [],
   "source": [
    "import pandas as pd"
   ]
  },
  {
   "cell_type": "code",
   "execution_count": 35,
   "id": "9ac8067c-0d9e-47a2-b10d-f76d69ae1c52",
   "metadata": {},
   "outputs": [],
   "source": [
    "# Initialize an empty list to store DataFrames\n",
    "dfs = []\n",
    "\n",
    "# List of years for which you have data\n",
    "years = [1996, 1998, 2000, 2002, 2004, 2006, 2008, 2010, 2012, 2014, 2016, 2018, 2020, 2024]"
   ]
  },
  {
   "cell_type": "code",
   "execution_count": 36,
   "id": "59a26b9e-12fe-44f6-bc33-023fdf2c79d5",
   "metadata": {},
   "outputs": [],
   "source": [
    "# Loop through each year\n",
    "for year in years:\n",
    "    # Create file path for the current year\n",
    "    file_path = f\"{year}.csv\"\n",
    "    \n",
    "    # Read the CSV file for the current year\n",
    "    df = pd.read_csv(file_path)\n",
    "    \n",
    "    # Add a column for the year\n",
    "    df[\"Year\"] = year\n",
    "    \n",
    "    # Append the DataFrame to the list\n",
    "    dfs.append(df)"
   ]
  },
  {
   "cell_type": "code",
   "execution_count": 37,
   "id": "e06d0720-f9f5-423b-af38-438703fe9ed9",
   "metadata": {},
   "outputs": [
    {
     "name": "stdout",
     "output_type": "stream",
     "text": [
      "   NOC  Gold  Silver  Bronze  Total  Year\n",
      "0  USA    44      32      25    101  1996\n",
      "1  RUS    26      21      16     63  1996\n",
      "2  GER    20      18      27     65  1996\n",
      "3  CHN    16      22      12     50  1996\n",
      "4  FRA    15       7      15     37  1996\n"
     ]
    }
   ],
   "source": [
    "# Concatenate all DataFrames into one\n",
    "all_data = pd.concat(dfs, ignore_index=True)\n",
    "\n",
    "# Print the first few rows of the combined DataFrame\n",
    "print(all_data.head())"
   ]
  },
  {
   "cell_type": "code",
   "execution_count": 38,
   "id": "91191322-eadd-4410-8c97-fd561e54ed34",
   "metadata": {},
   "outputs": [],
   "source": [
    "#convert to csv\n",
    "\n",
    "all_data.to_csv(\"olympics.csv\", index=False)"
   ]
  },
  {
   "cell_type": "code",
   "execution_count": 4,
   "id": "388d6fea-d9d1-4089-8b7b-a2c515bce995",
   "metadata": {},
   "outputs": [
    {
     "name": "stdout",
     "output_type": "stream",
     "text": [
      "   NOC  Gold  Silver  Bronze  Total  Year\n",
      "0  USA    44      32      25    101  1996\n",
      "1  RUS    26      21      16     63  1996\n",
      "2  GER    20      18      27     65  1996\n",
      "3  CHN    16      22      12     50  1996\n",
      "4  FRA    15       7      15     37  1996\n"
     ]
    }
   ],
   "source": [
    "#Read the csv file\n",
    "\n",
    "oly_df = pd.read_csv(\"olympics.csv\")\n",
    "print(oly_df.head())"
   ]
  },
  {
   "cell_type": "code",
   "execution_count": 5,
   "id": "a05b6e5f-f39b-4ff7-bb61-49c624933c74",
   "metadata": {},
   "outputs": [],
   "source": [
    "#Convert headings to numeric data type\n",
    "\n",
    "oly_df[\"Gold\"] = pd.to_numeric(oly_df[\"Gold\"], errors = \"coerce\")\n",
    "oly_df[\"Bronze\"] = pd.to_numeric(oly_df[\"Bronze\"], errors = \"coerce\")\n",
    "oly_df[\"Silver\"] = pd.to_numeric(oly_df[\"Silver\"], errors = \"coerce\")\n",
    "oly_df[\"Total\"] = pd.to_numeric(oly_df[\"Total\"], errors = \"coerce\")\n",
    "oly_df[\"Year\"] = pd.to_numeric(oly_df[\"Year\"], errors = \"coerce\")"
   ]
  },
  {
   "cell_type": "code",
   "execution_count": 25,
   "id": "9ec398d2-b580-472e-b39c-d78bc76dc0a0",
   "metadata": {},
   "outputs": [],
   "source": [
    "#Total medals per year by country\n",
    "total_med_per_year_by_cou = oly_df.groupby([\"Year\", \"NOC\"])[[\"Gold\", \"Silver\", \"Bronze\"]].sum()\n",
    "total_med_per_year_by_cou[\"Total\"] = total_med_per_year_by_cou.sum(axis=1)\n",
    "total_med_per_year_by_cou = total_med_per_year_by_cou.reset_index()\n",
    "total_med_per_year_by_cou.to_csv(\"total medals per year by country.csv\", index=False)"
   ]
  },
  {
   "cell_type": "code",
   "execution_count": 23,
   "id": "b811b62d-edff-4abb-8e9a-bcd8b59c045a",
   "metadata": {},
   "outputs": [],
   "source": [
    "#Top medals from 1994 to 2024 by country in ascending order\n",
    "total_medals_by_country = oly_df.groupby(['NOC'])[[\"Gold\", 'Bronze', 'Silver']].sum()\n",
    "total_medals_by_country['Total Medals'] = total_medals_by_country.sum(axis=1)\n",
    "total_medals_by_country = total_medals_by_country.reset_index()\n",
    "total_medals_by_country.to_csv(\"total medals from 1994-2024 by country asc.csv\", index=False)"
   ]
  },
  {
   "cell_type": "code",
   "execution_count": 26,
   "id": "147514b5-de17-4c18-9175-3f15d6f3b38a",
   "metadata": {},
   "outputs": [],
   "source": [
    "#top gold per year by country\n",
    "total_gold_per_year = oly_df.groupby([\"Year\", \"NOC\"])[[\"Gold\"]].sum()\n",
    "total_gold_per_year[\"Total\"] = total_gold_per_year.sum(axis=1)\n",
    "total_gold_per_year = total_gold_per_year.reset_index()\n",
    "total_gold_per_year.to_csv(\"total gold per year by country.csv\", index=False)\n"
   ]
  },
  {
   "cell_type": "code",
   "execution_count": 29,
   "id": "703c4d1a-0f13-485f-a3d0-a2b8d28e294f",
   "metadata": {},
   "outputs": [],
   "source": [
    "#top silver per year by country\n",
    "total_silver_per_year = oly_df.groupby([\"Year\", \"NOC\"])[[\"Silver\"]].sum()\n",
    "total_silver_per_year[\"Total\"] = total_silver_per_year.sum(axis=1)\n",
    "total_silver_per_year = total_silver_per_year.reset_index()\n",
    "total_silver_per_year.to_csv(\"total silver per year by country.csv\", index=False)"
   ]
  },
  {
   "cell_type": "code",
   "execution_count": 30,
   "id": "07876ff7-0d97-491d-9718-43fadbadd649",
   "metadata": {},
   "outputs": [],
   "source": [
    "#top silver per year by country\n",
    "total_bronze_per_year = oly_df.groupby([\"Year\", \"NOC\"])[[\"Bronze\"]].sum()\n",
    "total_bronze_per_year[\"Total\"] = total_bronze_per_year.sum(axis=1)\n",
    "total_bronze_per_year = total_bronze_per_year.reset_index()\n",
    "total_bronze_per_year.to_csv(\"total bronze per year by country.csv\", index=False)"
   ]
  },
  {
   "cell_type": "code",
   "execution_count": null,
   "id": "f6ea370e-c6ec-4462-8a20-ce3badc77e09",
   "metadata": {},
   "outputs": [],
   "source": []
  }
 ],
 "metadata": {
  "kernelspec": {
   "display_name": "Python 3 (ipykernel)",
   "language": "python",
   "name": "python3"
  },
  "language_info": {
   "codemirror_mode": {
    "name": "ipython",
    "version": 3
   },
   "file_extension": ".py",
   "mimetype": "text/x-python",
   "name": "python",
   "nbconvert_exporter": "python",
   "pygments_lexer": "ipython3",
   "version": "3.12.2"
  }
 },
 "nbformat": 4,
 "nbformat_minor": 5
}
